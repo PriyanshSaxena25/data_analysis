{
  "nbformat": 4,
  "nbformat_minor": 0,
  "metadata": {
    "colab": {
      "name": "NumPy2.ipynb",
      "provenance": [],
      "collapsed_sections": [],
      "authorship_tag": "ABX9TyPKHyqR9nwdnDKEYODkVCZX",
      "include_colab_link": true
    },
    "kernelspec": {
      "name": "python3",
      "display_name": "Python 3"
    },
    "language_info": {
      "name": "python"
    }
  },
  "cells": [
    {
      "cell_type": "markdown",
      "metadata": {
        "id": "view-in-github",
        "colab_type": "text"
      },
      "source": [
        "<a href=\"https://colab.research.google.com/github/PriyanshSaxena25/data_analysis/blob/main/NumPy2.ipynb\" target=\"_parent\"><img src=\"https://colab.research.google.com/assets/colab-badge.svg\" alt=\"Open In Colab\"/></a>"
      ]
    },
    {
      "cell_type": "code",
      "metadata": {
        "id": "nYiaGT9h627N"
      },
      "source": [
        "import numpy as np\n",
        "import os \n"
      ],
      "execution_count": 6,
      "outputs": []
    },
    {
      "cell_type": "code",
      "metadata": {
        "colab": {
          "base_uri": "https://localhost:8080/"
        },
        "id": "fYhQsh7i7UvM",
        "outputId": "c9297e93-b6f5-48fa-b4c6-9fbd825a080e"
      },
      "source": [
        "pip install urllib3"
      ],
      "execution_count": 10,
      "outputs": [
        {
          "output_type": "stream",
          "text": [
            "Requirement already satisfied: urllib3 in /usr/local/lib/python3.7/dist-packages (1.24.3)\n"
          ],
          "name": "stdout"
        }
      ]
    },
    {
      "cell_type": "code",
      "metadata": {
        "colab": {
          "base_uri": "https://localhost:8080/",
          "height": 35
        },
        "id": "AS-ZI3k-7zIT",
        "outputId": "d5246c44-acec-453a-dee1-c4a733eb11e3"
      },
      "source": [
        "os.getcwd()"
      ],
      "execution_count": 15,
      "outputs": [
        {
          "output_type": "execute_result",
          "data": {
            "application/vnd.google.colaboratory.intrinsic+json": {
              "type": "string"
            },
            "text/plain": [
              "'/content'"
            ]
          },
          "metadata": {},
          "execution_count": 15
        }
      ]
    },
    {
      "cell_type": "code",
      "metadata": {
        "id": "bm_32rK58EjP"
      },
      "source": [
        "import urllib.request as ur"
      ],
      "execution_count": 17,
      "outputs": []
    },
    {
      "cell_type": "code",
      "metadata": {
        "id": "WsFwEFp98aSN"
      },
      "source": [
        "url1 = 'https://hub.jovian.ml/wp-content/uploads/2020/08/loans1.txt'\n",
        "url2= 'https://hub.jovian.ml/wp-content/uploads/2020/08/loans2.txt'\n",
        "url3 = 'https://hub.jovian.ml/wp-content/uploads/2020/08/loans3.txt'"
      ],
      "execution_count": 23,
      "outputs": []
    },
    {
      "cell_type": "code",
      "metadata": {
        "colab": {
          "base_uri": "https://localhost:8080/"
        },
        "id": "FrwoFTHW8I_h",
        "outputId": "b4e5900a-89d5-47be-8409-01354de3a01d"
      },
      "source": [
        "ur.urlretrieve(url1,'./data/loans1.txt')\n",
        "ur.urlretrieve(url2,'./data/loans2.txt')\n",
        "ur.urlretrieve(url3,'./data/loans3.txt')\n",
        "os.listdir('./data')"
      ],
      "execution_count": 25,
      "outputs": [
        {
          "output_type": "execute_result",
          "data": {
            "text/plain": [
              "['loans2.txt', 'loans1.txt', 'loans3.txt']"
            ]
          },
          "metadata": {},
          "execution_count": 25
        }
      ]
    },
    {
      "cell_type": "code",
      "metadata": {
        "id": "Axgv7fXo9wa2"
      },
      "source": [
        "file1 = open('./data/loans1.txt',mode='r')\n",
        "file1_contents = file1.read()"
      ],
      "execution_count": 27,
      "outputs": []
    },
    {
      "cell_type": "code",
      "metadata": {
        "colab": {
          "base_uri": "https://localhost:8080/"
        },
        "id": "cgXTzuvZ-XdM",
        "outputId": "bab3d774-8733-4772-ac0d-23f52e3a83c2"
      },
      "source": [
        "print(file1_contents)"
      ],
      "execution_count": 37,
      "outputs": [
        {
          "output_type": "stream",
          "text": [
            "amount,duration,rate,down_payment\n",
            "100000,36,0.08,20000\n",
            "200000,12,0.1,\n",
            "628400,120,0.12,100000\n",
            "4637400,240,0.06,\n",
            "42900,90,0.07,8900\n",
            "916000,16,0.13,\n",
            "45230,48,0.08,4300\n",
            "991360,99,0.08,\n",
            "423000,27,0.09,47200\n"
          ],
          "name": "stdout"
        }
      ]
    },
    {
      "cell_type": "code",
      "metadata": {
        "id": "PUQ_TFmT-3Lj"
      },
      "source": [
        "file1.close() #important "
      ],
      "execution_count": 30,
      "outputs": []
    },
    {
      "cell_type": "markdown",
      "metadata": {
        "id": "umEjnZ-w-_Rg"
      },
      "source": [
        "##Better way\n",
        "to open a file and close it imedieatily we can use with statement"
      ]
    },
    {
      "cell_type": "code",
      "metadata": {
        "id": "A4uyxreE_Lbk"
      },
      "source": [
        "with open('./data/loans2.txt') as file2:\n",
        "  file2_contents = file2.read()\n"
      ],
      "execution_count": 31,
      "outputs": []
    },
    {
      "cell_type": "markdown",
      "metadata": {
        "id": "lb8K7xtv_uit"
      },
      "source": [
        "###The read line Function is used to have lines in a string \n",
        "\n",
        "\n",
        "```\n",
        "files1_lines = file1.readlines()\n",
        "```\n",
        "\n"
      ]
    },
    {
      "cell_type": "code",
      "metadata": {
        "colab": {
          "base_uri": "https://localhost:8080/"
        },
        "id": "ZJHnc9EF_kml",
        "outputId": "0eda104e-3106-4f5a-9f81-16851e50e6e4"
      },
      "source": [
        "with open('./data/loans3.txt') as file3:\n",
        " file3_lines = file3.readlines()\n",
        "print(file3_lines)"
      ],
      "execution_count": 33,
      "outputs": [
        {
          "output_type": "stream",
          "text": [
            "['amount,duration,rate,down_payment\\n', '883000,16,0.14,\\n', '45230,48,0.07,4300\\n', '100000,12,0.1,\\n', '728400,120,0.12,100000\\n', '3637400,240,0.06,\\n', '82900,90,0.07,8900\\n', '316000,16,0.13,\\n', '15230,48,0.08,4300\\n', '991360,99,0.08,\\n', '323000,27,0.09,4720010000,36,0.08,20000\\n', '528400,120,0.11,100000\\n', '8633400,240,0.06,\\n', '12900,90,0.08,8900\\n']\n"
          ],
          "name": "stdout"
        }
      ]
    },
    {
      "cell_type": "markdown",
      "metadata": {
        "id": "x8NmrTByAu22"
      },
      "source": [
        "###To remove the newline character '/n' we can use the strip function\n",
        "\n",
        "\n",
        "```\n",
        "fle3_lines.strip()\n",
        "```\n",
        "\n",
        "\n",
        "\n"
      ]
    },
    {
      "cell_type": "code",
      "metadata": {
        "colab": {
          "base_uri": "https://localhost:8080/",
          "height": 35
        },
        "id": "eMGyoHjaAj5n",
        "outputId": "305c40bc-63ec-4630-d5a2-9e7495ba03c5"
      },
      "source": [
        "# file3_lines[0]\n",
        "file3_lines[0].strip()"
      ],
      "execution_count": 35,
      "outputs": [
        {
          "output_type": "execute_result",
          "data": {
            "application/vnd.google.colaboratory.intrinsic+json": {
              "type": "string"
            },
            "text/plain": [
              "'amount,duration,rate,down_payment'"
            ]
          },
          "metadata": {},
          "execution_count": 35
        }
      ]
    },
    {
      "cell_type": "code",
      "metadata": {
        "id": "j4S9ptB2CXmH"
      },
      "source": [
        "def parse_headers(header_line):\n",
        "  return header_line.strip().split(',')"
      ],
      "execution_count": 38,
      "outputs": []
    },
    {
      "cell_type": "code",
      "metadata": {
        "colab": {
          "base_uri": "https://localhost:8080/",
          "height": 35
        },
        "id": "ke8nu_R4C62p",
        "outputId": "9d8cb7f0-6fc8-4aaa-d8a0-c32df875ae4e"
      },
      "source": [
        "file3_lines[0]\n"
      ],
      "execution_count": 40,
      "outputs": [
        {
          "output_type": "execute_result",
          "data": {
            "application/vnd.google.colaboratory.intrinsic+json": {
              "type": "string"
            },
            "text/plain": [
              "'amount,duration,rate,down_payment\\n'"
            ]
          },
          "metadata": {},
          "execution_count": 40
        }
      ]
    },
    {
      "cell_type": "code",
      "metadata": {
        "id": "gM2FMYKoDD0V"
      },
      "source": [
        "headers = parse_headers(file3_lines[0])"
      ],
      "execution_count": 42,
      "outputs": []
    },
    {
      "cell_type": "code",
      "metadata": {
        "colab": {
          "base_uri": "https://localhost:8080/"
        },
        "id": "hP8yDoNTDJdc",
        "outputId": "ea42a409-1da4-411b-81bd-d757b59eae1e"
      },
      "source": [
        "headers"
      ],
      "execution_count": 43,
      "outputs": [
        {
          "output_type": "execute_result",
          "data": {
            "text/plain": [
              "['amount', 'duration', 'rate', 'down_payment']"
            ]
          },
          "metadata": {},
          "execution_count": 43
        }
      ]
    },
    {
      "cell_type": "code",
      "metadata": {
        "id": "gZ02iJEHDRDB"
      },
      "source": [
        "def parse_values(data_line):\n",
        "  values = []\n",
        "  for item in data_line.strip().split(','):\n",
        "    values.append(float(item))\n",
        "  return values"
      ],
      "execution_count": 47,
      "outputs": []
    },
    {
      "cell_type": "markdown",
      "metadata": {
        "id": "PHqKOT_hEC5i"
      },
      "source": [
        "###If parse_values function is invoked on a line which does not have a 4th value then it will throw an error\n"
      ]
    },
    {
      "cell_type": "code",
      "metadata": {
        "colab": {
          "base_uri": "https://localhost:8080/",
          "height": 35
        },
        "id": "G6FA16ULEPrD",
        "outputId": "b1a77e94-75be-4d67-ed3a-5d77c3f7212b"
      },
      "source": [
        "file3_lines[1]"
      ],
      "execution_count": 45,
      "outputs": [
        {
          "output_type": "execute_result",
          "data": {
            "application/vnd.google.colaboratory.intrinsic+json": {
              "type": "string"
            },
            "text/plain": [
              "'883000,16,0.14,\\n'"
            ]
          },
          "metadata": {},
          "execution_count": 45
        }
      ]
    },
    {
      "cell_type": "code",
      "metadata": {
        "id": "IFFEBbZ5EVwq"
      },
      "source": [
        "parse_values(file3_lines[1]) #cannot convert string to float"
      ],
      "execution_count": null,
      "outputs": []
    },
    {
      "cell_type": "markdown",
      "metadata": {
        "id": "c3gAPGbBFEWJ"
      },
      "source": [
        "###To hadle this case we will modify our function "
      ]
    },
    {
      "cell_type": "code",
      "metadata": {
        "id": "KV55p4z4EoJz"
      },
      "source": [
        "def parse_values(data_line):\n",
        "  values = []\n",
        "  for item in data_line.strip().split(','):\n",
        "    if item == '':\n",
        "      values.append(0.0)\n",
        "    else:\n",
        "      values.append(float(item))\n",
        "  return values "
      ],
      "execution_count": 50,
      "outputs": []
    }
  ]
}
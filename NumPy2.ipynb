{
  "nbformat": 4,
  "nbformat_minor": 0,
  "metadata": {
    "colab": {
      "name": "NumPy2.ipynb",
      "provenance": [],
      "authorship_tag": "ABX9TyPJjc76kqFL4ETzaxQBClN9",
      "include_colab_link": true
    },
    "kernelspec": {
      "name": "python3",
      "display_name": "Python 3"
    },
    "language_info": {
      "name": "python"
    }
  },
  "cells": [
    {
      "cell_type": "markdown",
      "metadata": {
        "id": "view-in-github",
        "colab_type": "text"
      },
      "source": [
        "<a href=\"https://colab.research.google.com/github/PriyanshSaxena25/data_analysis/blob/main/NumPy2.ipynb\" target=\"_parent\"><img src=\"https://colab.research.google.com/assets/colab-badge.svg\" alt=\"Open In Colab\"/></a>"
      ]
    },
    {
      "cell_type": "code",
      "metadata": {
        "id": "nYiaGT9h627N"
      },
      "source": [
        "import numpy as np\n",
        "import os \n"
      ],
      "execution_count": 6,
      "outputs": []
    },
    {
      "cell_type": "code",
      "metadata": {
        "colab": {
          "base_uri": "https://localhost:8080/"
        },
        "id": "fYhQsh7i7UvM",
        "outputId": "c9297e93-b6f5-48fa-b4c6-9fbd825a080e"
      },
      "source": [
        "pip install urllib3"
      ],
      "execution_count": 10,
      "outputs": [
        {
          "output_type": "stream",
          "text": [
            "Requirement already satisfied: urllib3 in /usr/local/lib/python3.7/dist-packages (1.24.3)\n"
          ],
          "name": "stdout"
        }
      ]
    },
    {
      "cell_type": "code",
      "metadata": {
        "colab": {
          "base_uri": "https://localhost:8080/",
          "height": 35
        },
        "id": "AS-ZI3k-7zIT",
        "outputId": "d5246c44-acec-453a-dee1-c4a733eb11e3"
      },
      "source": [
        "os.getcwd()"
      ],
      "execution_count": 15,
      "outputs": [
        {
          "output_type": "execute_result",
          "data": {
            "application/vnd.google.colaboratory.intrinsic+json": {
              "type": "string"
            },
            "text/plain": [
              "'/content'"
            ]
          },
          "metadata": {},
          "execution_count": 15
        }
      ]
    },
    {
      "cell_type": "code",
      "metadata": {
        "id": "bm_32rK58EjP"
      },
      "source": [
        "import urllib.request as ur"
      ],
      "execution_count": 17,
      "outputs": []
    },
    {
      "cell_type": "code",
      "metadata": {
        "id": "WsFwEFp98aSN"
      },
      "source": [
        "url1 = 'https://hub.jovian.ml/wp-content/uploads/2020/08/loans1.txt'\n",
        "url2= 'https://hub.jovian.ml/wp-content/uploads/2020/08/loans2.txt'\n",
        "url3 = 'https://hub.jovian.ml/wp-content/uploads/2020/08/loans3.txt'"
      ],
      "execution_count": 23,
      "outputs": []
    },
    {
      "cell_type": "code",
      "metadata": {
        "colab": {
          "base_uri": "https://localhost:8080/"
        },
        "id": "FrwoFTHW8I_h",
        "outputId": "b4e5900a-89d5-47be-8409-01354de3a01d"
      },
      "source": [
        "ur.urlretrieve(url1,'./data/loans1.txt')\n",
        "ur.urlretrieve(url2,'./data/loans2.txt')\n",
        "ur.urlretrieve(url3,'./data/loans3.txt')\n",
        "os.listdir('./data')"
      ],
      "execution_count": 25,
      "outputs": [
        {
          "output_type": "execute_result",
          "data": {
            "text/plain": [
              "['loans2.txt', 'loans1.txt', 'loans3.txt']"
            ]
          },
          "metadata": {},
          "execution_count": 25
        }
      ]
    },
    {
      "cell_type": "code",
      "metadata": {
        "id": "Axgv7fXo9wa2"
      },
      "source": [
        "file1 = open('./data/loans1.txt',mode='r')\n",
        "file1_contents = file1.read()"
      ],
      "execution_count": 27,
      "outputs": []
    },
    {
      "cell_type": "code",
      "metadata": {
        "colab": {
          "base_uri": "https://localhost:8080/"
        },
        "id": "cgXTzuvZ-XdM",
        "outputId": "fc5bcd95-f9c7-4309-815d-4683acd5eb53"
      },
      "source": [
        "print(file1_contents)"
      ],
      "execution_count": 29,
      "outputs": [
        {
          "output_type": "stream",
          "text": [
            "amount,duration,rate,down_payment\n",
            "100000,36,0.08,20000\n",
            "200000,12,0.1,\n",
            "628400,120,0.12,100000\n",
            "4637400,240,0.06,\n",
            "42900,90,0.07,8900\n",
            "916000,16,0.13,\n",
            "45230,48,0.08,4300\n",
            "991360,99,0.08,\n",
            "423000,27,0.09,47200\n"
          ],
          "name": "stdout"
        }
      ]
    }
  ]
}